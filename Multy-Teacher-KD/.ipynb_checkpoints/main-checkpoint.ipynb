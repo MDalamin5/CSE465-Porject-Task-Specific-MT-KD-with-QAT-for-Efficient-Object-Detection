{
 "cells": [
  {
   "cell_type": "code",
   "execution_count": 1,
   "metadata": {},
   "outputs": [
    {
     "data": {
      "text/plain": [
       "device(type='cuda')"
      ]
     },
     "execution_count": 1,
     "metadata": {},
     "output_type": "execute_result"
    }
   ],
   "source": [
    "import torch\n",
    "import torch.nn as nn\n",
    "import torch.optim as optim\n",
    "import torchvision.transforms as transforms\n",
    "import torchvision.datasets as datasets\n",
    "\n",
    "# Check if GPU is available, and if not, use the CPU\n",
    "device = torch.device(\"cuda\" if torch.cuda.is_available() else \"cpu\")\n",
    "device"
   ]
  },
  {
   "cell_type": "markdown",
   "metadata": {},
   "source": [
    "Loading CIFAR-10\n",
    "================\n",
    "\n",
    "CIFAR-10 is a popular image dataset with ten classes. Our objective is\n",
    "to predict one of the following classes for each input image.\n",
    "\n",
    "![Example of CIFAR-10\n",
    "images](https://pytorch.org/tutorials//../_static/img/cifar10.png){.align-center}\n",
    "\n",
    "The input images are RGB, so they have 3 channels and are 32x32 pixels.\n",
    "Basically, each image is described by 3 x 32 x 32 = 3072 numbers ranging\n",
    "from 0 to 255. A common practice in neural networks is to normalize the\n",
    "input, which is done for multiple reasons, including avoiding saturation\n",
    "in commonly used activation functions and increasing numerical\n",
    "stability. Our normalization process consists of subtracting the mean\n",
    "and dividing by the standard deviation along each channel. The tensors\n",
    "\\\"mean=\\[0.485, 0.456, 0.406\\]\\\" and \\\"std=\\[0.229, 0.224, 0.225\\]\\\"\n",
    "were already computed, and they represent the mean and standard\n",
    "deviation of each channel in the predefined subset of CIFAR-10 intended\n",
    "to be the training set. Notice how we use these values for the test set\n",
    "as well, without recomputing the mean and standard deviation from\n",
    "scratch. This is because the network was trained on features produced by\n",
    "subtracting and dividing the numbers above, and we want to maintain\n",
    "consistency. Furthermore, in real life, we would not be able to compute\n",
    "the mean and standard deviation of the test set since, under our\n",
    "assumptions, this data would not be accessible at that point.\n",
    "\n",
    "As a closing point, we often refer to this held-out set as the\n",
    "validation set, and we use a separate set, called the test set, after\n",
    "optimizing a model\\'s performance on the validation set. This is done to\n",
    "avoid selecting a model based on the greedy and biased optimization of a\n",
    "single metric.\n"
   ]
  },
  {
   "cell_type": "code",
   "execution_count": 2,
   "metadata": {},
   "outputs": [
    {
     "name": "stdout",
     "output_type": "stream",
     "text": [
      "Downloading https://www.cs.toronto.edu/~kriz/cifar-10-python.tar.gz to ./data\\cifar-10-python.tar.gz\n"
     ]
    },
    {
     "name": "stderr",
     "output_type": "stream",
     "text": [
      "100%|██████████| 170498071/170498071 [01:02<00:00, 2718854.33it/s]\n"
     ]
    },
    {
     "name": "stdout",
     "output_type": "stream",
     "text": [
      "Extracting ./data\\cifar-10-python.tar.gz to ./data\n",
      "Files already downloaded and verified\n"
     ]
    }
   ],
   "source": [
    "# Below we are preprocessing data for CIFAR-10. We use an arbitrary batch size of 128.\n",
    "transforms_cifar = transforms.Compose([\n",
    "    transforms.ToTensor(),\n",
    "    transforms.Normalize(mean=[0.485, 0.456, 0.406], std=[0.229, 0.224, 0.225]),\n",
    "])\n",
    "\n",
    "# Loading the CIFAR-10 dataset:\n",
    "train_dataset = datasets.CIFAR10(root='./data', train=True, download=True, transform=transforms_cifar)\n",
    "test_dataset = datasets.CIFAR10(root='./data', train=False, download=True, transform=transforms_cifar)"
   ]
  },
  {
   "cell_type": "code",
   "execution_count": 2,
   "metadata": {},
   "outputs": [],
   "source": [
    "# project task start from 22-10-24"
   ]
  },
  {
   "cell_type": "code",
   "execution_count": null,
   "metadata": {},
   "outputs": [],
   "source": []
  }
 ],
 "metadata": {
  "kernelspec": {
   "display_name": "torchGPU",
   "language": "python",
   "name": "python3"
  },
  "language_info": {
   "codemirror_mode": {
    "name": "ipython",
    "version": 3
   },
   "file_extension": ".py",
   "mimetype": "text/x-python",
   "name": "python",
   "nbconvert_exporter": "python",
   "pygments_lexer": "ipython3",
   "version": "3.12.4"
  }
 },
 "nbformat": 4,
 "nbformat_minor": 2
}
