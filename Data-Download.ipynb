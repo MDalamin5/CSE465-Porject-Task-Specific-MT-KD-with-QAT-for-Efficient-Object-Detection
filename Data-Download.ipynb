{
 "cells": [
  {
   "cell_type": "code",
   "execution_count": 2,
   "id": "784edb5d-4e32-46b0-be46-11c4e8e704dd",
   "metadata": {},
   "outputs": [
    {
     "name": "stdout",
     "output_type": "stream",
     "text": [
      "Requirement already satisfied: roboflow in c:\\users\\lenovo\\anaconda3\\envs\\torchgpu\\lib\\site-packages (1.1.48)\n",
      "Requirement already satisfied: certifi in c:\\users\\lenovo\\anaconda3\\envs\\torchgpu\\lib\\site-packages (from roboflow) (2024.7.4)\n",
      "Requirement already satisfied: idna==3.7 in c:\\users\\lenovo\\anaconda3\\envs\\torchgpu\\lib\\site-packages (from roboflow) (3.7)\n",
      "Requirement already satisfied: cycler in c:\\users\\lenovo\\appdata\\roaming\\python\\python312\\site-packages (from roboflow) (0.12.1)\n",
      "Requirement already satisfied: kiwisolver>=1.3.1 in c:\\users\\lenovo\\appdata\\roaming\\python\\python312\\site-packages (from roboflow) (1.4.5)\n",
      "Requirement already satisfied: matplotlib in c:\\users\\lenovo\\appdata\\roaming\\python\\python312\\site-packages (from roboflow) (3.8.4)\n",
      "Requirement already satisfied: numpy>=1.18.5 in c:\\users\\lenovo\\appdata\\roaming\\python\\python312\\site-packages (from roboflow) (1.26.4)\n",
      "Requirement already satisfied: opencv-python-headless==4.10.0.84 in c:\\users\\lenovo\\anaconda3\\envs\\torchgpu\\lib\\site-packages (from roboflow) (4.10.0.84)\n",
      "Requirement already satisfied: Pillow>=7.1.2 in c:\\users\\lenovo\\appdata\\roaming\\python\\python312\\site-packages (from roboflow) (10.3.0)\n",
      "Requirement already satisfied: python-dateutil in c:\\users\\lenovo\\appdata\\roaming\\python\\python312\\site-packages (from roboflow) (2.9.0.post0)\n",
      "Requirement already satisfied: python-dotenv in c:\\users\\lenovo\\anaconda3\\envs\\torchgpu\\lib\\site-packages (from roboflow) (1.0.1)\n",
      "Requirement already satisfied: requests in c:\\users\\lenovo\\anaconda3\\envs\\torchgpu\\lib\\site-packages (from roboflow) (2.32.3)\n",
      "Requirement already satisfied: six in c:\\users\\lenovo\\appdata\\roaming\\python\\python312\\site-packages (from roboflow) (1.16.0)\n",
      "Requirement already satisfied: urllib3>=1.26.6 in c:\\users\\lenovo\\anaconda3\\envs\\torchgpu\\lib\\site-packages (from roboflow) (2.2.2)\n",
      "Requirement already satisfied: tqdm>=4.41.0 in c:\\users\\lenovo\\anaconda3\\envs\\torchgpu\\lib\\site-packages (from roboflow) (4.66.5)\n",
      "Requirement already satisfied: PyYAML>=5.3.1 in c:\\users\\lenovo\\anaconda3\\envs\\torchgpu\\lib\\site-packages (from roboflow) (6.0.1)\n",
      "Requirement already satisfied: requests-toolbelt in c:\\users\\lenovo\\anaconda3\\envs\\torchgpu\\lib\\site-packages (from roboflow) (1.0.0)\n",
      "Requirement already satisfied: filetype in c:\\users\\lenovo\\anaconda3\\envs\\torchgpu\\lib\\site-packages (from roboflow) (1.2.0)\n",
      "Requirement already satisfied: colorama in c:\\users\\lenovo\\anaconda3\\envs\\torchgpu\\lib\\site-packages (from tqdm>=4.41.0->roboflow) (0.4.6)\n",
      "Requirement already satisfied: contourpy>=1.0.1 in c:\\users\\lenovo\\appdata\\roaming\\python\\python312\\site-packages (from matplotlib->roboflow) (1.2.1)\n",
      "Requirement already satisfied: fonttools>=4.22.0 in c:\\users\\lenovo\\appdata\\roaming\\python\\python312\\site-packages (from matplotlib->roboflow) (4.51.0)\n",
      "Requirement already satisfied: packaging>=20.0 in c:\\users\\lenovo\\appdata\\roaming\\python\\python312\\site-packages (from matplotlib->roboflow) (24.0)\n",
      "Requirement already satisfied: pyparsing>=2.3.1 in c:\\users\\lenovo\\appdata\\roaming\\python\\python312\\site-packages (from matplotlib->roboflow) (3.1.2)\n",
      "Requirement already satisfied: charset-normalizer<4,>=2 in c:\\users\\lenovo\\anaconda3\\envs\\torchgpu\\lib\\site-packages (from requests->roboflow) (3.3.2)\n",
      "loading Roboflow workspace...\n",
      "loading Roboflow project...\n"
     ]
    },
    {
     "name": "stderr",
     "output_type": "stream",
     "text": [
      "Downloading Dataset Version Zip in Safety-Safe-Unsafe-9 to yolov5pytorch:: 100%|█| 197715/197715 [04:53<00:00, 674.37it"
     ]
    },
    {
     "name": "stdout",
     "output_type": "stream",
     "text": [
      "\n"
     ]
    },
    {
     "name": "stderr",
     "output_type": "stream",
     "text": [
      "\n",
      "Extracting Dataset Version Zip to Safety-Safe-Unsafe-9 in yolov5pytorch:: 100%|██| 3922/3922 [00:01<00:00, 2030.19it/s]\n"
     ]
    }
   ],
   "source": [
    "\n",
    "!pip install roboflow\n",
    "\n",
    "from roboflow import Roboflow\n",
    "rf = Roboflow(api_key=\"e1CD4XNuyqHtlQitfb78\")\n",
    "project = rf.workspace(\"testppe\").project(\"safety-safe-unsafe\")\n",
    "version = project.version(9)\n",
    "dataset = version.download(\"yolov5\")"
   ]
  },
  {
   "cell_type": "code",
   "execution_count": 3,
   "id": "5beb1fe4-88ac-4dc9-8e66-dfc462b44b1a",
   "metadata": {},
   "outputs": [
    {
     "name": "stdout",
     "output_type": "stream",
     "text": [
      "loading Roboflow workspace...\n",
      "loading Roboflow project...\n"
     ]
    },
    {
     "name": "stderr",
     "output_type": "stream",
     "text": [
      "Downloading Dataset Version Zip in BCCD-4 to yolov5pytorch:: 100%|█████████████| 13009/13009 [00:04<00:00, 2640.60it/s]"
     ]
    },
    {
     "name": "stdout",
     "output_type": "stream",
     "text": [
      "\n"
     ]
    },
    {
     "name": "stderr",
     "output_type": "stream",
     "text": [
      "\n",
      "Extracting Dataset Version Zip to BCCD-4 in yolov5pytorch:: 100%|████████████████| 1760/1760 [00:00<00:00, 1822.43it/s]\n"
     ]
    }
   ],
   "source": [
    "from roboflow import Roboflow\n",
    "rf = Roboflow(api_key=\"e1CD4XNuyqHtlQitfb78\")\n",
    "project = rf.workspace(\"joseph-nelson\").project(\"bccd\")\n",
    "version = project.version(4)\n",
    "dataset = version.download(\"yolov5\")"
   ]
  },
  {
   "cell_type": "code",
   "execution_count": 1,
   "id": "04b142a4-c8bc-4dda-93b5-ab2e31444554",
   "metadata": {},
   "outputs": [
    {
     "name": "stdout",
     "output_type": "stream",
     "text": [
      "loading Roboflow workspace...\n",
      "loading Roboflow project...\n"
     ]
    },
    {
     "name": "stderr",
     "output_type": "stream",
     "text": [
      "Downloading Dataset Version Zip in Lemon-Disease-Detection-2-14 to yolov5pytorch:: 100%|█| 271286/271286 [01:56<00"
     ]
    },
    {
     "name": "stdout",
     "output_type": "stream",
     "text": [
      "\n"
     ]
    },
    {
     "name": "stderr",
     "output_type": "stream",
     "text": [
      "\n",
      "Extracting Dataset Version Zip to Lemon-Disease-Detection-2-14 in yolov5pytorch:: 100%|█| 4260/4260 [00:02<00:00, \n"
     ]
    }
   ],
   "source": [
    "from roboflow import Roboflow\n",
    "rf = Roboflow(api_key=\"NxphLHEIFC8BnHArbVtS\")\n",
    "project = rf.workspace(\"ntnst\").project(\"lemon-disease-detection-2\")\n",
    "version = project.version(14)\n",
    "dataset = version.download(\"yolov5\")"
   ]
  },
  {
   "cell_type": "code",
   "execution_count": 2,
   "id": "5fad5808-5230-4adf-b157-fc49e4ff4729",
   "metadata": {},
   "outputs": [
    {
     "name": "stdout",
     "output_type": "stream",
     "text": [
      "loading Roboflow workspace...\n",
      "loading Roboflow project...\n"
     ]
    },
    {
     "name": "stderr",
     "output_type": "stream",
     "text": [
      "Downloading Dataset Version Zip in Road-5 to yolov5pytorch:: 100%|██████| 438462/438462 [04:30<00:00, 1620.84it/s]"
     ]
    },
    {
     "name": "stdout",
     "output_type": "stream",
     "text": [
      "\n"
     ]
    },
    {
     "name": "stderr",
     "output_type": "stream",
     "text": [
      "\n",
      "Extracting Dataset Version Zip to Road-5 in yolov5pytorch:: 100%|████████████| 3756/3756 [00:04<00:00, 836.32it/s]\n"
     ]
    }
   ],
   "source": [
    "from roboflow import Roboflow\n",
    "rf = Roboflow(api_key=\"NxphLHEIFC8BnHArbVtS\")\n",
    "project = rf.workspace(\"oleg-milantiev-egsqq\").project(\"road-bhozs\")\n",
    "version = project.version(5)\n",
    "dataset = version.download(\"yolov5\")"
   ]
  },
  {
   "cell_type": "code",
   "execution_count": 3,
   "id": "aeb50533-32dd-40dd-982d-903d8336f5ba",
   "metadata": {},
   "outputs": [
    {
     "name": "stdout",
     "output_type": "stream",
     "text": [
      "loading Roboflow workspace...\n",
      "loading Roboflow project...\n"
     ]
    },
    {
     "name": "stderr",
     "output_type": "stream",
     "text": [
      "Downloading Dataset Version Zip in trafik-4 to yolov5pytorch:: 100%|████| 645433/645433 [04:08<00:00, 2594.21it/s]"
     ]
    },
    {
     "name": "stdout",
     "output_type": "stream",
     "text": [
      "\n"
     ]
    },
    {
     "name": "stderr",
     "output_type": "stream",
     "text": [
      "\n",
      "Extracting Dataset Version Zip to trafik-4 in yolov5pytorch:: 100%|███████| 27934/27934 [00:18<00:00, 1501.85it/s]\n"
     ]
    }
   ],
   "source": [
    "from roboflow import Roboflow\n",
    "rf = Roboflow(api_key=\"NxphLHEIFC8BnHArbVtS\")\n",
    "project = rf.workspace(\"empty-jcldo\").project(\"trafik-ruvvh\")\n",
    "version = project.version(4)\n",
    "dataset = version.download(\"yolov5\")"
   ]
  },
  {
   "cell_type": "code",
   "execution_count": 1,
   "id": "dfcddf96-e8de-40b9-b1a2-23f91c90a436",
   "metadata": {},
   "outputs": [
    {
     "name": "stdout",
     "output_type": "stream",
     "text": [
      "loading Roboflow workspace...\n",
      "loading Roboflow project...\n"
     ]
    },
    {
     "name": "stderr",
     "output_type": "stream",
     "text": [
      "Downloading Dataset Version Zip in Attemp-1-+-Kaggle-Dataset-+-More-No-Incorrect-Mask-2 to yolov5pytorch:: 100%|█| 157770/157770 [00:49<00:00, 3188.43it/s]"
     ]
    },
    {
     "name": "stdout",
     "output_type": "stream",
     "text": [
      "\n"
     ]
    },
    {
     "name": "stderr",
     "output_type": "stream",
     "text": [
      "\n",
      "Extracting Dataset Version Zip to Attemp-1-+-Kaggle-Dataset-+-More-No-Incorrect-Mask-2 in yolov5pytorch:: 100%|██████| 4959/4959 [00:03<00:00, 1519.37it/s]\n"
     ]
    }
   ],
   "source": [
    "from roboflow import Roboflow\n",
    "rf = Roboflow(api_key=\"NxphLHEIFC8BnHArbVtS\")\n",
    "project = rf.workspace(\"combine-dataset\").project(\"attemp-1---kaggle-dataset---more-no-incorrect-mask\")\n",
    "version = project.version(2)\n",
    "dataset = version.download(\"yolov5\")"
   ]
  },
  {
   "cell_type": "code",
   "execution_count": null,
   "id": "4e9e8bb4-ee0e-47a9-bb1d-f2f01d682176",
   "metadata": {},
   "outputs": [],
   "source": []
  }
 ],
 "metadata": {
  "kernelspec": {
   "display_name": "Python 3 (ipykernel)",
   "language": "python",
   "name": "python3"
  },
  "language_info": {
   "codemirror_mode": {
    "name": "ipython",
    "version": 3
   },
   "file_extension": ".py",
   "mimetype": "text/x-python",
   "name": "python",
   "nbconvert_exporter": "python",
   "pygments_lexer": "ipython3",
   "version": "3.12.4"
  }
 },
 "nbformat": 4,
 "nbformat_minor": 5
}
